{
 "cells": [
  {
   "cell_type": "code",
   "execution_count": 2,
   "id": "ff62bdf5-1e67-4576-9a0f-df3a82bf9a45",
   "metadata": {},
   "outputs": [],
   "source": [
    "import numpy as np\n",
    "import netCDF4 as nc\n",
    "import os\n",
    "import pandas as pd\n",
    "import datetime as dt"
   ]
  },
  {
   "cell_type": "code",
   "execution_count": null,
   "id": "ce8273a9-9491-4481-a023-b6e2e81da120",
   "metadata": {},
   "outputs": [],
   "source": [
    "months = [x for x in os.listdir('./data/') if x.startswith('2021')]\n",
    "months.sort()\n",
    "months"
   ]
  },
  {
   "cell_type": "code",
   "execution_count": 3,
   "id": "cccbc1ba-f2b0-4ee1-b586-a34ae188d91c",
   "metadata": {},
   "outputs": [],
   "source": [
    "na_counts = list()"
   ]
  },
  {
   "cell_type": "code",
   "execution_count": 5,
   "id": "c3cc870a-2e10-4b92-a9c2-a78872572c07",
   "metadata": {},
   "outputs": [],
   "source": [
    "for month in months:\n",
    "    files = [x for x in os.listdir(f'./data/{month}/') if x.endswith('nc')]\n",
    "    files.sort()\n",
    "    for file in files:\n",
    "        try:\n",
    "            date = file.split('_')[-1].strip().split('.')[0].strip()\n",
    "            nc_data = nc.Dataset(f\"./data/{month}/{file}\")\n",
    "            daily_no2 = np.asarray(nc_data['S5P_VCD'][:])[880:1070, 370:480].T\n",
    "            # pd.DataFrame(daily_aod).to_csv(f'./AOD/{date}-AOD.csv', index=False, encoding='utf-8-sig')\n",
    "            pd.DataFrame(daily_no2).to_csv(f'./NO2_2021/{date}-NO2.csv', index=False, encoding='utf-8-sig')\n",
    "            # na_counts.append([d, (np.isnan(daily_data)*1).sum()])\n",
    "        except Exception as e:\n",
    "            print(e)\n",
    "            continue"
   ]
  },
  {
   "cell_type": "code",
   "execution_count": 7,
   "id": "f789ece2-9b15-403c-a26b-05c8be49ecde",
   "metadata": {},
   "outputs": [],
   "source": [
    "import os"
   ]
  },
  {
   "cell_type": "code",
   "execution_count": null,
   "id": "5b069f63-8b5c-4186-aa3b-e8fcc286caa8",
   "metadata": {},
   "outputs": [],
   "source": [
    "len(os.listdir('./train_no2/mask/20/'))"
   ]
  },
  {
   "cell_type": "code",
   "execution_count": null,
   "id": "674e3e9f-003b-4b4d-90f6-6e992af06fa6",
   "metadata": {},
   "outputs": [],
   "source": [
    "no2_csv = [x for x in os.listdir('./NO2/') if 'csv' in x]\n",
    "len(no2_csv)"
   ]
  },
  {
   "cell_type": "code",
   "execution_count": 14,
   "id": "45db0332-fcd7-4462-9ebd-54ca852a83b2",
   "metadata": {},
   "outputs": [],
   "source": [
    "max_no2 = 0\n",
    "min_no2 = 1\n",
    "for file in no2_csv:\n",
    "    data = pd.read_csv(f'./NO2/{file}')\n",
    "    tmp_max = np.nanmax(data.values)\n",
    "    if tmp_max > max_no2:\n",
    "        max_no2 = tmp_max\n",
    "    tmp_min = np.nanmin(data.values)\n",
    "    if tmp_min < min_no2:\n",
    "        min_no2 = tmp_min"
   ]
  },
  {
   "cell_type": "code",
   "execution_count": null,
   "id": "26afe89e-2acf-4e47-9275-df646c6a9aab",
   "metadata": {},
   "outputs": [],
   "source": [
    "min_no2"
   ]
  },
  {
   "cell_type": "code",
   "execution_count": null,
   "id": "d4fb6e1a-2140-4948-8861-046132e589ad",
   "metadata": {},
   "outputs": [],
   "source": [
    "max_no2"
   ]
  },
  {
   "cell_type": "code",
   "execution_count": null,
   "id": "ea167924-d0ce-4c65-92df-9136727507f8",
   "metadata": {},
   "outputs": [],
   "source": []
  }
 ],
 "metadata": {
  "kernelspec": {
   "display_name": "py39",
   "language": "python",
   "name": "python3"
  },
  "language_info": {
   "codemirror_mode": {
    "name": "ipython",
    "version": 3
   },
   "file_extension": ".py",
   "mimetype": "text/x-python",
   "name": "python",
   "nbconvert_exporter": "python",
   "pygments_lexer": "ipython3",
   "version": "3.9.21"
  }
 },
 "nbformat": 4,
 "nbformat_minor": 5
}
