{
 "cells": [
  {
   "cell_type": "code",
   "execution_count": 2,
   "id": "cecd0578-270d-404e-9812-00bf253c100c",
   "metadata": {},
   "outputs": [],
   "source": [
    "import pandas as pd\n",
    "import numpy as np\n",
    "import os"
   ]
  },
  {
   "cell_type": "code",
   "execution_count": null,
   "id": "9ec43ead-eddb-4b26-a0ae-4cc8977e983e",
   "metadata": {},
   "outputs": [],
   "source": [
    "file_list = [x for x in os.listdir('./NO2_2021/') if x.endswith('csv') and '2021' in x]\n",
    "print(len(file_list))"
   ]
  },
  {
   "cell_type": "code",
   "execution_count": 3,
   "id": "36018be7-94f9-451d-902c-30ef78a71fa3",
   "metadata": {},
   "outputs": [],
   "source": [
    "def sliding_window(matrix, window_size, steps=1):\n",
    "    rows = len(matrix) - window_size + 1\n",
    "    cols = len(matrix[0]) - window_size + 1\n",
    "    for i in range(0, rows, steps):\n",
    "        for j in range(0, cols, steps):\n",
    "            sub_matrix = matrix[i : i+window_size, j : j+window_size]\n",
    "            yield sub_matrix"
   ]
  },
  {
   "cell_type": "code",
   "execution_count": 4,
   "id": "e9d748a6-1ffa-4ab8-8537-bc50d47b2137",
   "metadata": {},
   "outputs": [],
   "source": [
    "window_size = 96"
   ]
  },
  {
   "cell_type": "code",
   "execution_count": 5,
   "id": "98de3eb2-586b-4296-aec1-5e7583f76ea9",
   "metadata": {},
   "outputs": [],
   "source": [
    "num_samples = len(file_list)\n",
    "valid_list = np.random.choice(file_list, size=int(num_samples * 0.2), replace=False)\n",
    "train_list = [x for x in file_list if x not in valid_list]\n",
    "test_list = np.random.choice(valid_list, size=int(num_samples * 0.1), replace=False)\n",
    "val_list = [x for x in valid_list if x not in test_list]"
   ]
  },
  {
   "cell_type": "code",
   "execution_count": null,
   "id": "4ded71cc-352f-4269-934f-066f3427d9a6",
   "metadata": {},
   "outputs": [],
   "source": [
    "len(train_list), len(val_list), len(test_list)"
   ]
  },
  {
   "cell_type": "code",
   "execution_count": 7,
   "id": "6779ebaa-fc53-46bd-a8cc-89b66315f118",
   "metadata": {},
   "outputs": [],
   "source": [
    "for file in file_list:\n",
    "    data = pd.read_csv(f\"./NO2/{file}\").values\n",
    "    file_id = file.split('.')[0]\n",
    "    for ind, mat in enumerate(sliding_window(data, window_size, 4)):\n",
    "        if (np.isnan(mat) * 1).sum() != 0:\n",
    "            continue\n",
    "        else:\n",
    "            if file in train_list:\n",
    "                np.save(f'./train_no2/{window_size}/train/{file_id}-{ind}.npy', mat)\n",
    "            elif file in val_list:\n",
    "                np.save(f'./train_no2/{window_size}/valid/{file_id}-{ind}.npy', mat)\n",
    "            else:\n",
    "                np.save(f'./train_no2/{window_size}/test/{file_id}-{ind}.npy', mat)"
   ]
  },
  {
   "cell_type": "code",
   "execution_count": null,
   "id": "46ca93da-f227-42b9-aedc-24b2304a4988",
   "metadata": {},
   "outputs": [],
   "source": [
    "len(os.listdir(f'./train_no2/{window_size}/train/'))"
   ]
  },
  {
   "cell_type": "code",
   "execution_count": null,
   "id": "d7af352b-f203-4b29-b472-570dbda744b1",
   "metadata": {},
   "outputs": [],
   "source": [
    "len(os.listdir(f'./train_no2/{window_size}/valid/'))"
   ]
  },
  {
   "cell_type": "code",
   "execution_count": null,
   "id": "2a468c19-7f62-4efe-8358-523fc2efe57c",
   "metadata": {},
   "outputs": [],
   "source": [
    "len(os.listdir(f'./train_no2/{window_size}/test/'))"
   ]
  },
  {
   "cell_type": "code",
   "execution_count": 11,
   "id": "d57eb0c6-3496-4986-a969-1b441a95efe5",
   "metadata": {},
   "outputs": [],
   "source": [
    "import cv2"
   ]
  },
  {
   "cell_type": "code",
   "execution_count": 12,
   "id": "8d86d3bb-e352-419f-a9dd-b70295b3c6f8",
   "metadata": {},
   "outputs": [],
   "source": [
    "mask_list = {}\n",
    "for file in file_list:\n",
    "    data = pd.read_csv(f\"./NO2/{file}\").values\n",
    "    file_id = file.split('.')[0]\n",
    "    count = 0\n",
    "    for ind, mat in enumerate(sliding_window(data, window_size, 4)):\n",
    "        cur_no2 = np.isnan(mat[:,:])\n",
    "        na_sums = (cur_no2 * 1).sum()\n",
    "        miss_rate = round(na_sums / (window_size**2), 2) * 100\n",
    "        if miss_rate > 40:\n",
    "            continue\n",
    "        if (miss_rate % 10 == 0) and miss_rate > 0:\n",
    "            fold_path = str(int(miss_rate))\n",
    "            if not os.path.exists(f\"./train_no2/{window_size}/mask/{fold_path}\"):\n",
    "                os.mkdir(f\"./train_no2/{window_size}/mask/{fold_path}\")\n",
    "            if fold_path not in mask_list:\n",
    "                mask_list[fold_path] = 1\n",
    "            else:\n",
    "                mask_list[fold_path] += 1\n",
    "            msk = 1 - (cur_no2 * 1)\n",
    "            cv2.imwrite(f'./train_no2/{window_size}/mask/{fold_path}/{file_id}-{ind}.jpg', msk)"
   ]
  },
  {
   "cell_type": "code",
   "execution_count": null,
   "id": "27a9e69a",
   "metadata": {},
   "outputs": [],
   "source": [
    "len(os.listdir(f'./train_no2/{window_size}/mask/20/'))"
   ]
  },
  {
   "cell_type": "code",
   "execution_count": null,
   "id": "ceab3f86",
   "metadata": {},
   "outputs": [],
   "source": []
  }
 ],
 "metadata": {
  "kernelspec": {
   "display_name": "py39",
   "language": "python",
   "name": "python3"
  },
  "language_info": {
   "codemirror_mode": {
    "name": "ipython",
    "version": 3
   },
   "file_extension": ".py",
   "mimetype": "text/x-python",
   "name": "python",
   "nbconvert_exporter": "python",
   "pygments_lexer": "ipython3",
   "version": "3.9.21"
  }
 },
 "nbformat": 4,
 "nbformat_minor": 5
}
